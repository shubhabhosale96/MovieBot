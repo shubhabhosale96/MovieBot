{
 "cells": [
  {
   "cell_type": "code",
   "execution_count": null,
   "id": "3b03722f",
   "metadata": {},
   "outputs": [],
   "source": [
    "\n",
    "q = { \"Hi\" : \"Hello, I am Moviebot! What kind of movies do you like, Drama|Horror|Romance|Action|Science Fiction?\",\n",
    "      \"Action\" : \"Here are some suggestions 1.Avengers Endgame 2. Fast and Furious 3. Mission Impossible 4. Godzilla 5. Captain America\",\n",
    "     \"Romance\" : \"Here are some suggestions 1. Killers of the flower moon 2. The Twlight Saga - Breaking Down 3. Titanic 4. Forever My Girl 5. The Little Mermaid\",\n",
    "     \"Science Fiction\": \"Here are some suggestions 1. The Hunger Games 2. The creator 3. Avatar The way of Water 4. Star Wars 5. Rise of the Planet of the Apes\",\n",
    "     \"Drama\" : \"Here are some suggestions 1. OMG 2. Uncut Gems 3. The Village 4. Sukhee 5. No Hard Feelings\",\n",
    "     \"Horror\" : \"Here are some suggestions 1. A Quiet Place 2. Savages 3. The Conjuring 4. Page 16 5. Alien Covenant\",\n",
    "     \"Movie Casts\" : \"Type Movie Name Here\"\n",
    "     \"Avengers Endgame : Robert Downey Jr., Scarlett Johansson, Chris Evans,  Chris Hemsworth\", \n",
    "     \"Fast and Furious\" : \"Vin Diesel, Michelle Rodriguez, Jordana Brewster, John Cena\",\n",
    "      \"Mission Impossible\" : \"Tom Cruise\",\n",
    "     \"Godzilla\" : \"Aaron Taylor-Johanson , Elizabeth Olsen\", \n",
    "     \"Captain America\" : \"Sebastain Stan, Scarlett Johansson, Anthony Mackie\", \n",
    "     \"Killers of the flower moon\" : \"Leonardo DiCaprio , Lily Gladstone\",\n",
    "     \"The Twlight Saga - Breaking Down\" : \"Kristen Stewart , Robert Pattinson , Taylor Lautner\",\n",
    "     \"Titanic\" : \"Kate Winslet,Leonardo DiCaprio\", \n",
    "     \"Forever My Girl\" : \"Alex Roe, Jessica Rothe\",\n",
    "     \"The Little Mermaid\" : \"Halle Bailey , Jonah Hauer-King\",\n",
    "     \"The Hunger Games\" : \"Jenifer Lawrence, Josh Hutcherson\",\n",
    "     \"The creator \" : \"John Devid Washington, Gemma Chan\",\n",
    "     \"Avatar The way of Water\" : \"Sam Worthington, Zoe Saldana\",\n",
    "     \"Star Wars\" : \"Mark Hamil, Harrison Ford\",\n",
    "     \"Rise of the Planet of the Apes\" : \"Andy Serkis, James Franco\",\n",
    "     \"OMG\" : \"Akshay Kumar, Paresh Rawal\",\n",
    "     \"Uncut Gems\" : \"Adam Sandler, Julia Fox\",\n",
    "     \"The Village\" : \"M. Night Shyamalan, Bryce Dallas Howard\",\n",
    "     \"Sukhee\" : \"Shilpa Shetty, Khusha Kapila\",\n",
    "     \"No Hard Feelings\" : \"Jenifer Lawrence,Andrew Barth Feldman\", \n",
    "     \"A Quiet Place\" : \"John Krasinski, Emily Blunt\",\n",
    "     \"Savages\" : \"Aaron Taylor-Johanson, Taylor Kitsch\",\n",
    "     \"The Conjuring\" : \"Vera Farmiga, Patrick Wilson, Sterling Jerins\",\n",
    "     \"Page 16\" : \"Shehzad Pathan, Zakie Hussain, Kiran Kumar\",\n",
    "     \"Alien Covenant\" : \"Michael Fassbender, Noomi Rapace\",\n",
    "     \"Any other suggestions\": \"No Thank You\",\n",
    "     \"Visit Again\" : \"Sure\",\n",
    "     \"Bye\" : \"cya\"\n",
    "    }\n",
    "\n",
    "\n",
    "print(\"BOT : Hello...! Welcome to the RAJE BHOSALE movie recommendations\")\n",
    "\n",
    "while True:\n",
    "    question = input(\"You : \")\n",
    "    \n",
    "    if question == \"stop\":\n",
    "        break\n",
    "    \n",
    "    for i in q:\n",
    "        if question == i:\n",
    "            print(\"BOT : \" , q[i])\n",
    "            break        \n",
    "    else:\n",
    "        print(\"BOT : \", \"Kindly ask another question\")\n",
    "        "
   ]
  }
 ],
 "metadata": {
  "kernelspec": {
   "display_name": "Python 3 (ipykernel)",
   "language": "python",
   "name": "python3"
  },
  "language_info": {
   "codemirror_mode": {
    "name": "ipython",
    "version": 3
   },
   "file_extension": ".py",
   "mimetype": "text/x-python",
   "name": "python",
   "nbconvert_exporter": "python",
   "pygments_lexer": "ipython3",
   "version": "3.11.5"
  }
 },
 "nbformat": 4,
 "nbformat_minor": 5
}
